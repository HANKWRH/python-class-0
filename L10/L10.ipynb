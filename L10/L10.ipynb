{
 "cells": [
  {
   "cell_type": "code",
   "execution_count": 4,
   "metadata": {},
   "outputs": [],
   "source": [
    "def sum3(a, b, c):\n",
    "    i = a + b + c\n",
    "    return i"
   ]
  },
  {
   "cell_type": "code",
   "execution_count": 5,
   "metadata": {},
   "outputs": [
    {
     "data": {
      "text/plain": [
       "15"
      ]
     },
     "execution_count": 5,
     "metadata": {},
     "output_type": "execute_result"
    }
   ],
   "source": [
    "sum3(6, 5, 4)"
   ]
  },
  {
   "cell_type": "code",
   "execution_count": 58,
   "metadata": {},
   "outputs": [
    {
     "name": "stdout",
     "output_type": "stream",
     "text": [
      "18\n"
     ]
    }
   ],
   "source": [
    "list_a = [1, 5, 4, 8]\n",
    "def sumlist(list_b):\n",
    "    i = list_b[0] + list_b[1] +list_b[2] +list_b[3]\n",
    "    return i\n",
    "print(sumlist(list_a))"
   ]
  },
  {
   "cell_type": "code",
   "execution_count": 42,
   "metadata": {},
   "outputs": [
    {
     "name": "stdout",
     "output_type": "stream",
     "text": [
      "True\n"
     ]
    }
   ],
   "source": [
    "def is_not_in_list(a, list_a):\n",
    "    for i in range(len(list_a)):\n",
    "        if a == list_a[i]:\n",
    "            return False\n",
    "    return True\n",
    "b = 2\n",
    "list_b = [1, 4, 5, 6]\n",
    "print(is_not_in_list(b, list_b))"
   ]
  },
  {
   "cell_type": "code",
   "execution_count": 43,
   "metadata": {},
   "outputs": [
    {
     "name": "stdout",
     "output_type": "stream",
     "text": [
      "True\n"
     ]
    }
   ],
   "source": [
    "def is_in_list(a, list_a):\n",
    "    for i in range(len(list_a)):\n",
    "        if a == list_a[i]:\n",
    "            return True\n",
    "    return False\n",
    "b = 1\n",
    "list_b = [1, 2, 5, 6]\n",
    "print(is_in_list(b, list_b))"
   ]
  },
  {
   "cell_type": "code",
   "execution_count": 57,
   "metadata": {},
   "outputs": [
    {
     "name": "stdout",
     "output_type": "stream",
     "text": [
      "28\n"
     ]
    }
   ],
   "source": [
    "\n",
    "\n",
    "def sum_list(list_p):\n",
    "    s = 0\n",
    "    for i in range(len(list_p)):\n",
    "        s += list_p[i]\n",
    "    return s\n",
    "\n",
    "\n",
    "\n",
    "list_b = [1, 5, 4, 8, 10]\n",
    "print(sum_list(list_b))\n",
    "\n",
    "\n"
   ]
  },
  {
   "cell_type": "code",
   "execution_count": 65,
   "metadata": {},
   "outputs": [
    {
     "name": "stdout",
     "output_type": "stream",
     "text": [
      "9\n",
      "-1\n"
     ]
    }
   ],
   "source": [
    "def max_list(list_q):\n",
    "    max_number = list_q[0]\n",
    "    for i in range(len(list_q)):\n",
    "        if max_number < list_q[i]:\n",
    "            max_number = list_q[i]\n",
    "    return max_number\n",
    "def min_list(list_w):\n",
    "    min_number = list_w[0]\n",
    "    for i in range(len(list_w)):\n",
    "        if min_number > list_w[i]:\n",
    "            min_number = list_w[i]\n",
    "    return min_number\n",
    "list_a = [-1,8,9,5,4]\n",
    "print(max_list(list_a))\n",
    "print(min_list(list_a))"
   ]
  },
  {
   "cell_type": "code",
   "execution_count": null,
   "metadata": {},
   "outputs": [],
   "source": []
  }
 ],
 "metadata": {
  "interpreter": {
   "hash": "c4cdca8cf6037a262b76618109a328ec3d85c282afcc942ccf996e017a3001e3"
  },
  "kernelspec": {
   "display_name": "Python 3.8.3 64-bit ('base': conda)",
   "name": "python3"
  },
  "language_info": {
   "codemirror_mode": {
    "name": "ipython",
    "version": 3
   },
   "file_extension": ".py",
   "mimetype": "text/x-python",
   "name": "python",
   "nbconvert_exporter": "python",
   "pygments_lexer": "ipython3",
   "version": "3.8.3"
  },
  "orig_nbformat": 4
 },
 "nbformat": 4,
 "nbformat_minor": 2
}
