{
 "cells": [
  {
   "cell_type": "code",
   "execution_count": 1,
   "source": [
    "print('hello world')"
   ],
   "outputs": [
    {
     "output_type": "stream",
     "name": "stdout",
     "text": [
      "hello world\n"
     ]
    }
   ],
   "metadata": {}
  },
  {
   "cell_type": "code",
   "execution_count": 2,
   "source": [
    "favorite_food = []\r\n",
    "for i in range(2):\r\n",
    "    food = input('what is your favorite food ?')\r\n",
    "    favorite_food.append(food)\r\n",
    "print(favorite_food)"
   ],
   "outputs": [
    {
     "output_type": "stream",
     "name": "stdout",
     "text": [
      "['chicken', 'tomato']\n"
     ]
    }
   ],
   "metadata": {}
  },
  {
   "cell_type": "code",
   "execution_count": 4,
   "source": [
    "int_list = []\r\n",
    "for i in range(2):\r\n",
    "    n = input('what is your favorite number ?')\r\n",
    "    int_list.append(int(n))\r\n",
    "print(sum(int_list))"
   ],
   "outputs": [
    {
     "output_type": "stream",
     "name": "stdout",
     "text": [
      "13\n"
     ]
    }
   ],
   "metadata": {}
  },
  {
   "cell_type": "code",
   "execution_count": 24,
   "source": [
    "food = ['chicken', 'tomato','pork']\r\n",
    "for i in range(len(food)):\r\n",
    "    if food[i] == 'tomato':\r\n",
    "        print(food[i],\"is a fruit and it's delicious\")\r\n",
    "    else:\r\n",
    "        print(food[i],'is delicious')"
   ],
   "outputs": [
    {
     "output_type": "stream",
     "name": "stdout",
     "text": [
      "chicken is delicious\n",
      "tomato is a fruit and it's delicious\n",
      "pork is delicious\n"
     ]
    }
   ],
   "metadata": {}
  },
  {
   "cell_type": "code",
   "execution_count": 27,
   "source": [
    "food = ['chicken', 'tomato', 'pork', 'beef']\r\n",
    "for f in food:\r\n",
    "    if f == 'tomato':\r\n",
    "        print(f,\"is a fruit and it's delicious\")\r\n",
    "    elif f == 'beef':\r\n",
    "        print('I want',f ,'to be bigger')\r\n",
    "    else:\r\n",
    "        print(f,'is delicious')"
   ],
   "outputs": [
    {
     "output_type": "stream",
     "name": "stdout",
     "text": [
      "chicken is delicious\n",
      "tomato is a fruit and it's delicious\n",
      "pork is delicious\n",
      "I want beef to be bigger\n"
     ]
    }
   ],
   "metadata": {}
  },
  {
   "cell_type": "code",
   "execution_count": null,
   "source": [],
   "outputs": [],
   "metadata": {}
  }
 ],
 "metadata": {
  "orig_nbformat": 4,
  "language_info": {
   "name": "python",
   "version": "3.8.3",
   "mimetype": "text/x-python",
   "codemirror_mode": {
    "name": "ipython",
    "version": 3
   },
   "pygments_lexer": "ipython3",
   "nbconvert_exporter": "python",
   "file_extension": ".py"
  },
  "kernelspec": {
   "name": "python3",
   "display_name": "Python 3.8.3 64-bit ('base': conda)"
  },
  "interpreter": {
   "hash": "c4cdca8cf6037a262b76618109a328ec3d85c282afcc942ccf996e017a3001e3"
  }
 },
 "nbformat": 4,
 "nbformat_minor": 2
}