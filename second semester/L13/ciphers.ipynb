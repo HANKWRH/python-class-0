{
 "cells": [
  {
   "cell_type": "markdown",
   "metadata": {},
   "source": []
  },
  {
   "cell_type": "code",
   "execution_count": 3,
   "metadata": {},
   "outputs": [
    {
     "name": "stdout",
     "output_type": "stream",
     "text": [
      "hello world\n"
     ]
    }
   ],
   "source": [
    "print('hello world')"
   ]
  },
  {
   "cell_type": "code",
   "execution_count": 5,
   "metadata": {},
   "outputs": [
    {
     "name": "stdout",
     "output_type": "stream",
     "text": [
      "aello world\n"
     ]
    }
   ],
   "source": [
    "def a(text: str):\n",
    "    b_text = ''\n",
    "    for c in text:\n",
    "        if c == 'h':\n",
    "            b_text += 'a'\n",
    "        else:\n",
    "            b_text += c\n",
    "    return b_text\n",
    "def c(text: str):\n",
    "    c_text = ''\n",
    "    return c_text\n",
    "\n",
    "result = a('hello world')\n",
    "print(result)"
   ]
  },
  {
   "cell_type": "code",
   "execution_count": 23,
   "metadata": {},
   "outputs": [
    {
     "name": "stdout",
     "output_type": "stream",
     "text": [
      "myfavouriteicecreamismango\n"
     ]
    }
   ],
   "source": [
    "def shift(text: str, shift: int):\n",
    "    result = ''\n",
    "    for c in text:\n",
    "        if ord(c) + shift > 122:\n",
    "            new_c = ord(c)+shift - 26\n",
    "            result += chr(new_c)\n",
    "        else:\n",
    "            new_c = ord(c) + shift\n",
    "            result += chr(new_c)\n",
    "    return result\n",
    "for i in range(26):\n",
    "    result = shift('nzgbwpvsjufjdfdsfbnjtnbohp',i)\n",
    "print(result)"
   ]
  },
  {
   "cell_type": "code",
   "execution_count": 38,
   "metadata": {},
   "outputs": [
    {
     "name": "stdout",
     "output_type": "stream",
     "text": [
      "{'a': 919, 'b': 202, 'c': 322, 'd': 382, 'e': 1763, 'f': 342, 'g': 156, 'h': 692, 'i': 741, 'j': 16, 'k': 22, 'l': 507, 'm': 204, 'n': 876, 'o': 918, 'p': 175, 'q': 19, 'r': 708, 's': 828, 't': 1193, 'u': 292, 'v': 130, 'w': 112, 'x': 47, 'y': 165, 'z': 6}\n"
     ]
    }
   ],
   "source": [
    "with open('test.txt','r') as f:\n",
    "    totals = {}\n",
    "    for i in range(ord('a'),ord('z')+1):\n",
    "        totals[chr(i)] = 0\n",
    "\n",
    "    for line in f.readlines():\n",
    "        for characters in line:\n",
    "            if ord('a') <= ord(characters) <= ord('z'):\n",
    "                totals[characters] += 1\n",
    "    print(totals)"
   ]
  },
  {
   "cell_type": "code",
   "execution_count": 42,
   "metadata": {},
   "outputs": [
    {
     "name": "stdout",
     "output_type": "stream",
     "text": [
      "Uif!Dpotujuvujpobm!Dpowfoujpo\u000bBsujdmf!J\u000bTfdujpo!2;!Dpohsftt\u000bBmm!mfhjtmbujwf!Qpxfst!ifsfjo!hsboufe!tibmm!cf!wftufe!jo!b!Dpohsftt!pg!uif!Vojufe!Tubuft-!xijdi!tibmm!dpotjtu!pg!b!Tfobuf!boe!Ipvtf!pg!Sfqsftfoubujwft/\u000b\u000bTfdujpo!3;!Uif!Ipvtf!pg!Sfqsftfoubujwft\u000bUif!Ipvtf!pg!Sfqsftfoubujwft!tibmm!cf!dpnqptfe!pg!Nfncfst!diptfo!fwfsz!tfdpoe!Zfbs!cz!uif!Qfpqmf!pg!uif!tfwfsbm!Tubuft-!boe!uif!Fmfdupst!jo!fbdi!Tubuf!tibmm!ibwf!uif!Rvbmjgjdbujpot!sfrvjtjuf!gps!Fmfdupst!pg!uif!nptu!ovnfspvt!Csbodi!pg!uif!Tubuf!Mfhjtmbuvsf/\u000b\u000bOp!Qfstpo!tibmm!cf!b!Sfqsftfoubujwf!xip!tibmm!opu!ibwf!buubjofe!up!uif!Bhf!pg!uxfouz!gjwf!Zfbst-!boe!cffo!tfwfo!Zfbst!b!Djujafo!pg!uif!Vojufe!Tubuft-!boe!xip!tibmm!opu-!xifo!fmfdufe-!cf!bo!Joibcjubou!pg!uibu!Tubuf!jo!xijdi!if!tibmm!cf!diptfo/\u000b\u000bSfqsftfoubujwft!boe!ejsfdu!Ubyft!tibmm!cf!bqqpsujpofe!bnpoh!uif!tfwfsbm!Tubuft!xijdi!nbz!cf!jodmvefe!xjuijo!uijt!Vojpo-!bddpsejoh!up!uifjs!sftqfdujwf!Ovncfst-!xijdi!tibmm!cf!efufsnjofe!cz!beejoh!up!uif!xipmf!Ovncfs!pg!gsff!Qfstpot-!jodmvejoh!uiptf!cpvoe!up!Tfswjdf!gps!b!Ufsn!pg!Zfbst-!boe!fydmvejoh!Joejbot!opu!ubyfe-!uisff!gjguit!pg!bmm!puifs!Qfstpot/!Uif!bduvbm!Fovnfsbujpo!tibmm!cf!nbef!xjuijo!uisff!Zfbst!bgufs!uif!gjstu!Nffujoh!pg!uif!Dpohsftt!pg!uif!Vojufe!Tubuft-!boe!xjuijo!fwfsz!tvctfrvfou!Ufsn!pg!ufo!Zfbst-!jo!tvdi!Nboofs!bt!uifz!tibmm!cz!Mbx!ejsfdu/Uif!ovncfs!pg!Sfqsftfoubujwft!tibmm!opu!fydffe!pof!gps!fwfsz!uijsuz!Uipvtboe-!cvu!fbdi!Tubuf!tibmm!ibwf!bu!Mfbtu!pof!Sfqsftfoubujwf<!boe!voujm!tvdi!fovnfsbujpo!tibmm!cf!nbef-!uif!Tubuf!pg!Ofx!Ibnqtijsf!tibmm!cf!foujumfe!up!divtf!uisff-!Nbttbdivtfuut!fjhiu-!Sipef.Jtmboe!boe!Qspwjefodf!Qmboubujpot!pof-!Dpoofdujdvu!gjwf-!Ofx.Zpsl!tjy-!Ofx!Kfstfz!gpvs-!Qfootzmwbojb!fjhiu-!Efmbxbsf!pof-!Nbszmboe!tjy-!Wjshjojb!ufo-!Opsui!Dbspmjob!gjwf-!Tpvui!Dbspmjob!gjwf-!boe!Hfpshjb!uisff/\u000b\u000bXifo!wbdbodjft!ibqqfo!jo!uif!Sfqsftfoubujpo!gspn!boz!Tubuf-!uif!Fyfdvujwf!Bvuipsjuz!uifsfpg!tibmm!jttvf!Xsjut!pg!Fmfdujpo!up!gjmm!tvdi!Wbdbodjft/\u000b\u000bUif!Ipvtf!pg!Sfqsftfoubujwft!tibmm!divtf!uifjs!Tqfblfs!boe!puifs!Pggjdfst<boe!tibmm!ibwf!uif!tpmf!Qpxfs!pg!Jnqfbdinfou/\u000b\u000bTfdujpo!4;!Uif!Tfobuf\u000bUif!Tfobuf!pg!uif!Vojufe!Tubuft!tibmm!cf!dpnqptfe!pg!uxp!Tfobupst!gspn!fbdi!Tubuf-!diptfo!cz!uif!Mfhjtmbuvsf!uifsfpg-!gps!tjy!Zfbst<!boe!fbdi!Tfobups!tibmm!ibwf!pof!Wpuf/\u000b\u000bJnnfejbufmz!bgufs!uifz!tibmm!cf!bttfncmfe!jo!Dpotfrvfodf!pg!uif!gjstu!Fmfdujpo-!uifz!tibmm!cf!ejwjefe!bt!frvbmmz!bt!nbz!cf!joup!uisff!Dmbttft/!Uif!Tfbut!pg!uif!Tfobupst!pg!uif!gjstu!Dmbtt!tibmm!cf!wbdbufe!bu!uif!Fyqjsbujpo!pg!uif!tfdpoe!Zfbs-!pg!uif!tfdpoe!Dmbtt!bu!uif!Fyqjsbujpo!pg!uif!gpvsui!Zfbs-!boe!pg!uif!uijse!Dmbtt!bu!uif!Fyqjsbujpo!pg!uif!tjyui!Zfbs-!tp!uibu!pof!uijse!nbz!cf!diptfo!fwfsz!tfdpoe!Zfbs<!boe!jg!Wbdbodjft!ibqqfo!cz!Sftjhobujpo-!ps!puifsxjtf-!evsjoh!uif!Sfdftt!pg!uif!Mfhjtmbuvsf!pg!boz!Tubuf-!uif!Fyfdvujwf!uifsfpg!nbz!nblf!ufnqpsbsz!Bqqpjounfout!voujm!uif!ofyu!Nffujoh!pg!uif!Mfhjtmbuvsf-!xijdi!tibmm!uifo!gjmm!tvdi!Wbdbodjft/\u000b\u000bOp!Qfstpo!tibmm!cf!b!Tfobups!xip!tibmm!opu!ibwf!buubjofe!up!uif!Bhf!pg!uijsuz!Zfbst-!boe!cffo!ojof!Zfbst!b!Djujafo!pg!uif!Vojufe!Tubuft-!boe!xip!tibmm!opu-!xifo!fmfdufe-!cf!bo!Joibcjubou!pg!uibu!Tubuf!gps!xijdi!if!tibmm!cf!diptfo/\u000b\u000bUif!Wjdf!Qsftjefou!pg!uif!Vojufe!Tubuft!tibmm!cf!Qsftjefou!pg!uif!Tfobuf-!cvu!tibmm!ibwf!op!Wpuf-!vomftt!uifz!cf!frvbmmz!ejwjefe/\u000b\u000bUif!Tfobuf!tibmm!divtf!uifjs!puifs!Pggjdfst-!boe!bmtp!b!Qsftjefou!qsp!ufnqpsf-!jo!uif!Bctfodf!pg!uif!Wjdf!Qsftjefou-!ps!xifo!if!tibmm!fyfsdjtf!uif!Pggjdf!pg!Qsftjefou!pg!uif!Vojufe!Tubuft/\u000b\u000bUif!Tfobuf!tibmm!ibwf!uif!tpmf!Qpxfs!up!usz!bmm!Jnqfbdinfout/!Xifo!tjuujoh!gps!uibu!Qvsqptf-!uifz!tibmm!cf!po!Pbui!ps!Bggjsnbujpo/!Xifo!uif!Qsftjefou!pg!uif!Vojufe!Tubuft!jt!usjfe-!uif!Dijfg!Kvtujdf!tibmm!qsftjef;!Boe!op!Qfstpo!tibmm!cf!dpowjdufe!xjuipvu!uif!Dpodvssfodf!pg!uxp!uijset!pg!uif!Nfncfst!qsftfou/\u000b\u000bKvehnfou!jo!Dbtft!pg!Jnqfbdinfou!tibmm!opu!fyufoe!gvsuifs!uibo!up!sfnpwbm!gspn!Pggjdf-!boe!ejtrvbmjgjdbujpo!up!ipme!boe!fokpz!boz!Pggjdf!pg!ipops-!Usvtu!ps!Qspgju!voefs!uif!Vojufe!Tubuft;!cvu!uif!Qbsuz!dpowjdufe!tibmm!ofwfsuifmftt!cf!mjbcmf!boe!tvckfdu!up!Joejdunfou-!Usjbm-!Kvehnfou!boe!Qvojtinfou-!bddpsejoh!up!Mbx/\u000b\u000bTfdujpo!5;!Fmfdujpot\u000bUif!Ujnft-!Qmbdft!boe!Nboofs!pg!ipmejoh!Fmfdujpot!gps!Tfobupst!boe!Sfqsftfoubujwft-!tibmm!cf!qsftdsjcfe!jo!fbdi!Tubuf!cz!uif!Mfhjtmbuvsf!uifsfpg<!cvu!uif!Dpohsftt!nbz!bu!boz!ujnf!cz!Mbx!nblf!ps!bmufs!tvdi!Sfhvmbujpot-!fydfqu!bt!up!uif!Qmbdft!pg!divtjoh!Tfobupst/\u000b\u000bUif!Dpohsftt!tibmm!bttfncmf!bu!mfbtu!podf!jo!fwfsz!Zfbs-!boe!tvdi!Nffujoh!tibmm!cf!po!uif!gjstu!Npoebz!jo!Efdfncfs-!vomftt!uifz!tibmm!cz!Mbx!bqqpjou!b!ejggfsfou!Ebz/\u000b\u000bTfdujpo!6;!Qpxfst!boe!Evujft!pg!Dpohsftt\u000bFbdi!Ipvtf!tibmm!cf!uif!Kvehf!pg!uif!Fmfdujpot-!Sfuvsot!boe!Rvbmjgjdbujpot!pg!jut!pxo!Nfncfst-boe!b!Nbkpsjuz!pg!fbdi!tibmm!dpotujuvuf!b!Rvpsvn!up!ep!Cvtjoftt<!cvu!b!tnbmmfs!Ovncfs!nbz!bekpvso!gspn!ebz!up!ebz-!boe!nbz!cf!bvuipsjafe!up!dpnqfm!uif!Buufoebodf!pg!bctfou!Nfncfst-!jo!tvdi!Nboofs-!boe!voefs!tvdi!Qfobmujft!bt!fbdi!Ipvtf!nbz!qspwjef/\u000b\u000bFbdi!Ipvtf!nbz!efufsnjof!uif!Svmft!pg!jut!Qspdffejoht-!qvojti!jut!Nfncfst!gps!ejtpsefsmz!Cfibwjpvs-!boe-!xjui!uif!Dpodvssfodf!pg!uxp!uijset-!fyqfm!b!Nfncfs/\u000b\u000bFbdi!Ipvtf!tibmm!lffq!b!Kpvsobm!pg!jut!Qspdffejoht-!boe!gspn!ujnf!up!ujnf!qvcmjti!uif!tbnf-!fydfqujoh!tvdi!Qbsut!bt!nbz!jo!uifjs!Kvehnfou!sfrvjsf!Tfdsfdz<!boe!uif!Zfbt!boe!Obzt!pg!uif!Nfncfst!pg!fjuifs!Ipvtf!po!boz!rvftujpo!tibmm-!bu!uif!Eftjsf!pg!pof!gjgui!pg!uiptf!Qsftfou-!cf!foufsfe!po!uif!Kpvsobm/\u000b\u000bOfjuifs!Ipvtf-!evsjoh!uif!Tfttjpo!pg!Dpohsftt-!tibmm-!xjuipvu!uif!Dpotfou!pg!uif!puifs-!bekpvso!gps!npsf!uibo!uisff!ebzt-!ops!up!boz!puifs!Qmbdf!uibo!uibu!jo!xijdi!uif!uxp!Ipvtft!tibmm!cf!tjuujoh/\u000b\u000bTfdujpo!7;!Sjhiut!boe!Ejtbcjmjujft!pg!Nfncfst\u000bUif!Tfobupst!boe!Sfqsftfoubujwft!tibmm!sfdfjwf!b!Dpnqfotbujpo!gps!uifjs!Tfswjdft-!up!cf!btdfsubjofe!cz!Mbx-!boe!qbje!pvu!pg!uif!Usfbtvsz!pg!uif!Vojufe!Tubuft/Uifz!tibmm!jo!bmm!Dbtft-!fydfqu!Usfbtpo-!Gfmpoz!boe!Csfbdi!pg!uif!Qfbdf-!cf!qsjwjmfhfe!gspn!Bssftu!evsjoh!uifjs!Buufoebodf!bu!uif!Tfttjpo!pg!uifjs!sftqfdujwf!Ipvtft-!boe!jo!hpjoh!up!boe!sfuvsojoh!gspn!uif!tbnf<!boe!gps!boz!Tqffdi!ps!Efcbuf!jo!fjuifs!Ipvtf-!uifz!tibmm!opu!cf!rvftujpofe!jo!boz!puifs!Qmbdf/\u000b\u000bOp!Tfobups!ps!Sfqsftfoubujwf!tibmm-!evsjoh!uif!Ujnf!gps!xijdi!if!xbt!fmfdufe-!cf!bqqpjoufe!up!boz!djwjm!Pggjdf!voefs!uif!Bvuipsjuz!pg!uif!Vojufe!Tubuft-!xijdi!tibmm!ibwf!cffo!dsfbufe-!ps!uif!Fnpmvnfout!xifsfpg!tibmm!ibwf!cffo!fodsfbtfe!evsjoh!tvdi!ujnf<!boe!op!Qfstpo!ipmejoh!boz!Pggjdf!voefs!uif!Vojufe!Tubuft-!tibmm!cf!b!Nfncfs!pg!fjuifs!Ipvtf!evsjoh!ijt!Dpoujovbodf!jo!Pggjdf/\u000b\u000bTfdujpo!8;!Mfhjtmbujwf!Qspdftt\u000bBmm!Cjmmt!gps!sbjtjoh!Sfwfovf!tibmm!psjhjobuf!jo!uif!Ipvtf!pg!Sfqsftfoubujwft<!cvu!uif!Tfobuf!nbz!qspqptf!ps!dpodvs!xjui!Bnfoenfout!bt!po!puifs!Cjmmt/\u000b\u000bFwfsz!Cjmm!xijdi!tibmm!ibwf!qbttfe!uif!Ipvtf!pg!Sfqsftfoubujwft!boe!uif!Tfobuf-!tibmm-!cfgpsf!ju!cfdpnf!b!Mbx-!cf!qsftfoufe!up!uif!Qsftjefou!pg!uif!Vojufe!Tubuft<!Jg!if!bqqspwf!if!tibmm!tjho!ju-!cvu!jg!opu!if!tibmm!sfuvso!ju-!xjui!ijt!Pckfdujpot!up!uibu!Ipvtf!jo!xijdi!ju!tibmm!ibwf!psjhjobufe-!xip!tibmm!foufs!uif!Pckfdujpot!bu!mbshf!po!uifjs!Kpvsobm-!boe!qspdffe!up!sfdpotjefs!ju/!Jg!bgufs!tvdi!Sfdpotjefsbujpo!uxp!uijset!pg!uibu!Ipvtf!tibmm!bhsff!up!qbtt!uif!Cjmm-!ju!tibmm!cf!tfou-!uphfuifs!xjui!uif!Pckfdujpot-!up!uif!puifs!Ipvtf-!cz!xijdi!ju!tibmm!mjlfxjtf!cf!sfdpotjefsfe-!boe!jg!bqqspwfe!cz!uxp!uijset!pg!uibu!Ipvtf-!ju!tibmm!cfdpnf!b!Mbx/!Cvu!jo!bmm!tvdi!Dbtft!uif!Wpuft!pg!cpui!Ipvtft!tibmm!cf!efufsnjofe!cz!Zfbt!boe!Obzt-!boe!uif!Obnft!pg!uif!Qfstpot!wpujoh!gps!boe!bhbjotu!uif!Cjmm!tibmm!cf!foufsfe!po!uif!Kpvsobm!pg!fbdi!Ipvtf!sftqfdujwfmz/!Jg!boz!Cjmm!tibmm!opu!cf!sfuvsofe!cz!uif!Qsftjefou!xjuijo!ufo!Ebzt!)Tvoebzt!fydfqufe*!bgufs!ju!tibmm!ibwf!cffo!qsftfoufe!up!ijn-!uif!Tbnf!tibmm!cf!b!Mbx-!jo!mjlf!Nboofs!bt!jg!if!ibe!tjhofe!ju-!vomftt!uif!Dpohsftt!cz!uifjs!Bekpvsonfou!qsfwfou!jut!Sfuvso-!jo!xijdi!Dbtf!ju!tibmm!opu!cf!b!Mbx/\u000b\u000bFwfsz!Psefs-!Sftpmvujpo-!ps!Wpuf!up!xijdi!uif!Dpodvssfodf!pg!uif!Tfobuf!boe!Ipvtf!pg!Sfqsftfoubujwft!nbz!cf!ofdfttbsz!)fydfqu!po!b!rvftujpo!pg!Bekpvsonfou*!tibmm!cf!qsftfoufe!up!uif!Qsftjefou!pg!uif!Vojufe!Tubuft<!boe!cfgpsf!uif!Tbnf!tibmm!ublf!Fggfdu-!tibmm!cf!bqqspwfe!cz!ijn-!ps!cfjoh!ejtbqqspwfe!cz!ijn-!tibmm!cf!sfqbttfe!cz!uxp!uijset!pg!uif!Tfobuf!boe!Ipvtf!pg!Sfqsftfoubujwft-!bddpsejoh!up!uif!Svmft!boe!Mjnjubujpot!qsftdsjcfe!jo!uif!Dbtf!pg!b!Cjmm/\u000b\u000bTfdujpo!9;!Qpxfst!pg!Dpohsftt\u000bUif!Dpohsftt!tibmm!ibwf!Qpxfs!Up!mbz!boe!dpmmfdu!Ubyft-!Evujft-!Jnqptut!boe!Fydjtft-!up!qbz!uif!Efcut!boe!qspwjef!gps!uif!dpnnpo!Efgfodf!boe!hfofsbm!Xfmgbsf!pg!uif!Vojufe!Tubuft<!cvu!bmm!Evujft-!Jnqptut!boe!Fydjtft!tibmm!cf!vojgpsn!uispvhipvu!uif!Vojufe!Tubuft<\u000b\u000bUp!cpsspx!Npofz!po!uif!dsfeju!pg!uif!Vojufe!Tubuft<\u000b\u000bUp!sfhvmbuf!Dpnnfsdf!xjui!gpsfjho!Obujpot-!boe!bnpoh!uif!tfwfsbm!Tubuft-!boe!xjui!uif!Joejbo!Usjcft<\u000b\u000bUp!ftubcmjti!b!vojgpsn!Svmf!pg!Obuvsbmjabujpo-!boe!vojgpsn!Mbxt!po!uif!tvckfdu!pg!Cbolsvqudjft!uispvhipvu!uif!Vojufe!Tubuft<\u000b\u000bUp!dpjo!Npofz-!sfhvmbuf!uif!Wbmvf!uifsfpg-!boe!pg!gpsfjho!Dpjo-!boe!gjy!uif!Tuboebse!pg!Xfjhiut!boe!Nfbtvsft<\u000b\u000bUp!qspwjef!gps!uif!Qvojtinfou!pg!dpvoufsgfjujoh!uif!Tfdvsjujft!boe!dvssfou!Dpjo!pg!uif!Vojufe!Tubuft<\u000b\u000bUp!ftubcmjti!Qptu!Pggjdft!boe!qptu!Spbet<\u000b\u000bUp!qspnpuf!uif!Qsphsftt!pg!Tdjfodf!boe!vtfgvm!Bsut-!cz!tfdvsjoh!gps!mjnjufe!Ujnft!up!Bvuipst!boe!Jowfoupst!uif!fydmvtjwf!Sjhiu!up!uifjs!sftqfdujwf!Xsjujoht!boe!Ejtdpwfsjft<\u000b\u000bUp!dpotujuvuf!Usjcvobmt!jogfsjps!up!uif!tvqsfnf!Dpvsu<\u000b\u000bUp!efgjof!boe!qvojti!Qjsbdjft!boe!Gfmpojft!dpnnjuufe!po!uif!ijhi!Tfbt-!boe!Pggfotft!bhbjotu!uif!Mbx!pg!Obujpot<\u000b\u000bUp!efdmbsf!Xbs-!hsbou!Mfuufst!pg!Nbsrvf!boe!Sfqsjtbm-!boe!nblf!Svmft!dpodfsojoh!Dbquvsft!po!Mboe!boe!Xbufs<\u000b\u000bUp!sbjtf!boe!tvqqpsu!Bsnjft-!cvu!op!Bqqspqsjbujpo!pg!Npofz!up!uibu!Vtf!tibmm!cf!gps!b!mpohfs!Ufsn!uibo!uxp!Zfbst<\u000b\u000bUp!qspwjef!boe!nbjoubjo!b!Obwz<\u000b\u000bUp!nblf!Svmft!gps!uif!Hpwfsonfou!boe!Sfhvmbujpo!pg!uif!mboe!boe!obwbm!Gpsdft<\u000b\u000bUp!qspwjef!gps!dbmmjoh!gpsui!uif!Njmjujb!up!fyfdvuf!uif!Mbxt!pg!uif!Vojpo-!tvqqsftt!Jotvssfdujpot!boe!sfqfm!Jowbtjpot<\u000b\u000bUp!qspwjef!gps!pshbojajoh-!bsnjoh-!boe!ejtdjqmjojoh-!uif!Njmjujb-!boe!gps!hpwfsojoh!tvdi!Qbsu!pg!uifn!bt!nbz!cf!fnqmpzfe!jo!uif!Tfswjdf!pg!uif!Vojufe!Tubuft-!sftfswjoh!up!uif!Tubuft!sftqfdujwfmz-!uif!Bqqpjounfou!pg!uif!Pggjdfst-!boe!uif!Bvuipsjuz!pg!usbjojoh!uif!Njmjujb!bddpsejoh!up!uif!ejtdjqmjof!qsftdsjcfe!cz!Dpohsftt<\u000b\u000bUp!fyfsdjtf!fydmvtjwf!Mfhjtmbujpo!jo!bmm!Dbtft!xibutpfwfs-!pwfs!tvdi!Ejtusjdu!)opu!fydffejoh!ufo!Njmft!trvbsf*!bt!nbz-!cz!Dfttjpo!pg!qbsujdvmbs!Tubuft-!boe!uif!Bddfqubodf!pg!Dpohsftt-!cfdpnf!uif!Tfbu!pg!uif!Hpwfsonfou!pg!uif!Vojufe!Tubuft-!boe!up!fyfsdjtf!mjlf!Bvuipsjuz!pwfs!bmm!Qmbdft!qvsdibtfe!cz!uif!Dpotfou!pg!uif!Mfhjtmbuvsf!pg!uif!Tubuf!jo!xijdi!uif!Tbnf!tibmm!cf-!gps!uif!Fsfdujpo!pg!Gpsut-!Nbhbajoft-!Bstfobmt-!epdl.Zbset!boe!puifs!offegvm!Cvjmejoht<.Boe\u000b\u000bUp!nblf!bmm!Mbxt!xijdi!tibmm!cf!ofdfttbsz!boe!qspqfs!gps!dbsszjoh!joup!Fyfdvujpo!uif!gpsfhpjoh!Qpxfst-!boe!bmm!puifs!Qpxfst!wftufe!cz!uijt!Dpotujuvujpo!jo!uif!Hpwfsonfou!pg!uif!Vojufe!Tubuft-!ps!jo!boz!Efqbsunfou!ps!Pggjdfs!uifsfpg/\u000b\u000bTfdujpo!:;!Qpxfst!Efojfe!Dpohsftt\u000bUif!Njhsbujpo!ps!Jnqpsubujpo!pg!tvdi!Qfstpot!bt!boz!pg!uif!Tubuft!opx!fyjtujoh!tibmm!uijol!qspqfs!up!benju-!tibmm!opu!cf!qspijcjufe!cz!uif!Dpohsftt!qsjps!up!uif!Zfbs!pof!uipvtboe!fjhiu!ivoesfe!boe!fjhiu-!cvu!b!Uby!ps!evuz!nbz!cf!jnqptfe!po!tvdi!Jnqpsubujpo-!opu!fydffejoh!ufo!epmmbst!gps!fbdi!Qfstpo/\u000b\u000bUif!Qsjwjmfhf!pg!uif!Xsju!pg!Ibcfbt!Dpsqvt!tibmm!opu!cf!tvtqfoefe-!vomftt!xifo!jo!Dbtft!pg!Sfcfmmjpo!ps!Jowbtjpo!uif!qvcmjd!Tbgfuz!nbz!sfrvjsf!ju/\u000b\u000bOp!Cjmm!pg!Buubjoefs!ps!fy!qptu!gbdup!Mbx!tibmm!cf!qbttfe/\u000b\u000bOp!Dbqjubujpo-!ps!puifs!ejsfdu-!Uby!tibmm!cf!mbje-!vomftt!jo!Qspqpsujpo!up!uif!Dfotvt!ps!Fovnfsbujpo!ifsfjo!cfgpsf!ejsfdufe!up!cf!ublfo/\u000b\u000bOp!Uby!ps!Evuz!tibmm!cf!mbje!po!Bsujdmft!fyqpsufe!gspn!boz!Tubuf/\u000b\u000bOp!Qsfgfsfodf!tibmm!cf!hjwfo!cz!boz!Sfhvmbujpo!pg!Dpnnfsdf!ps!Sfwfovf!up!uif!Qpsut!pg!pof!Tubuf!pwfs!uiptf!pg!bopuifs;!ops!tibmm!Wfttfmt!cpvoe!up-!ps!gspn-!pof!Tubuf-!cf!pcmjhfe!up!foufs-!dmfbs-!ps!qbz!Evujft!jo!bopuifs/\u000b\u000bOp!Npofz!tibmm!cf!esbxo!gspn!uif!Usfbtvsz-!cvu!jo!Dpotfrvfodf!pg!Bqqspqsjbujpot!nbef!cz!Mbx<!boe!b!sfhvmbs!Tubufnfou!boe!Bddpvou!pg!uif!Sfdfjqut!boe!Fyqfoejuvsft!pg!bmm!qvcmjd!Npofz!tibmm!cf!qvcmjtife!gspn!ujnf!up!ujnf/\u000b\u000bOp!Ujumf!pg!Opcjmjuz!tibmm!cf!hsboufe!cz!uif!Vojufe!Tubuft;!Boe!op!Qfstpo!ipmejoh!boz!Pggjdf!pg!Qspgju!ps!Usvtu!voefs!uifn-!tibmm-!xjuipvu!uif!Dpotfou!pg!uif!Dpohsftt-!bddfqu!pg!boz!qsftfou-!Fnpmvnfou-!Pggjdf-!ps!Ujumf-!pg!boz!ljoe!xibufwfs-!gspn!boz!Ljoh-!Qsjodf-!ps!gpsfjho!Tubuf/\u000b\u000bTfdujpo!21;!Qpxfst!Efojfe!up!uif!Tubuft\u000bOp!Tubuf!tibmm!foufs!joup!boz!Usfbuz-!Bmmjbodf-!ps!Dpogfefsbujpo<!hsbou!Mfuufst!pg!Nbsrvf!boe!Sfqsjtbm<!dpjo!Npofz<!fnju!Cjmmt!pg!Dsfeju<!nblf!boz!Uijoh!cvu!hpme!boe!tjmwfs!Dpjo!b!Ufoefs!jo!Qbznfou!pg!Efcut<!qbtt!boz!Cjmm!pg!Buubjoefs-!fy!qptu!gbdup!Mbx-!ps!Mbx!jnqbjsjoh!uif!Pcmjhbujpo!pg!Dpousbdut-!ps!hsbou!boz!Ujumf!pg!Opcjmjuz/\u000b\u000bOp!Tubuf!tibmm-!xjuipvu!uif!Dpotfou!pg!uif!Dpohsftt-!mbz!boz!Jnqptut!ps!Evujft!po!Jnqpsut!ps!Fyqpsut-!fydfqu!xibu!nbz!cf!bctpmvufmz!ofdfttbsz!gps!fyfdvujoh!ju(t!jotqfdujpo!Mbxt;!boe!uif!ofu!Qspevdf!pg!bmm!Evujft!boe!Jnqptut-!mbje!cz!boz!Tubuf!po!Jnqpsut!ps!Fyqpsut-!tibmm!cf!gps!uif!Vtf!pg!uif!Usfbtvsz!pg!uif!Vojufe!Tubuft<!boe!bmm!tvdi!Mbxt!tibmm!cf!tvckfdu!up!uif!Sfwjtjpo!boe!Dpouspvm!pg!uif!Dpohsftt/\u000b\u000bOp!Tubuf!tibmm-!xjuipvu!uif!Dpotfou!pg!Dpohsftt-!mbz!boz!Evuz!pg!Upoobhf-!lffq!Usppqt-!ps!Tijqt!pg!Xbs!jo!ujnf!pg!Qfbdf-!foufs!joup!boz!Bhsffnfou!ps!Dpnqbdu!xjui!bopuifs!Tubuf-!ps!xjui!b!gpsfjho!Qpxfs-!ps!fohbhf!jo!Xbs-!vomftt!bduvbmmz!jowbefe-!ps!jo!tvdi!jnnjofou!Ebohfs!bt!xjmm!opu!benju!pg!efmbz/\u000b\u000bBsujdmf!JJ\u000bTfdujpo!2\u000bUif!fyfdvujwf!Qpxfs!tibmm!cf!wftufe!jo!b!Qsftjefou!pg!uif!Vojufe!Tubuft!pg!Bnfsjdb/\u000b\u000bIf!tibmm!ipme!ijt!Pggjdf!evsjoh!uif!Ufsn!pg!gpvs!Zfbst-!boe-!uphfuifs!xjui!uif!Wjdf!Qsftjefou-!diptfo!gps!uif!tbnf!Ufsn-!cf!fmfdufe-!bt!gpmmpxt;\u000b\u000bFbdi!Tubuf!tibmm!bqqpjou-!jo!tvdi!Nboofs!bt!uif!Mfhjtmbuvsf!uifsfpg!nbz!ejsfdu-!b!Ovncfs!pg!Fmfdupst-!frvbm!up!uif!xipmf!Ovncfs!pg!Tfobupst!boe!Sfqsftfoubujwft!up!xijdi!uif!Tubuf!nbz!cf!foujumfe!jo!uif!Dpohsftt;!cvu!op!Tfobups!ps!Sfqsftfoubujwf-!ps!Qfstpo!ipmejoh!bo!Pggjdf!pg!Usvtu!ps!Qspgju!voefs!uif!Vojufe!Tubuft-!tibmm!cf!bqqpjoufe!bo!Fmfdups/\u000b\u000bUif!Fmfdupst!tibmm!nffu!jo!uifjs!sftqfdujwf!Tubuft-!boe!wpuf!cz!Cbmmpu!gps!uxp!Qfstpot-!pg!xipn!pof!bu!mfbtu!tibmm!opu!cf!bo!Joibcjubou!pg!uif!tbnf!Tubuf!xjui!uifntfmwft/!Boe!uifz!tibmm!nblf!b!Mjtu!pg!bmm!uif!Qfstpot!wpufe!gps-!boe!pg!uif!Ovncfs!pg!Wpuft!gps!fbdi<!xijdi!Mjtu!uifz!tibmm!tjho!boe!dfsujgz-!boe!usbotnju!tfbmfe!up!uif!Tfbu!pg!uif!Hpwfsonfou!pg!uif!Vojufe!Tubuft-!ejsfdufe!up!uif!Qsftjefou!pg!uif!Tfobuf/!Uif!Qsftjefou!pg!uif!Tfobuf!tibmm-!jo!uif!Qsftfodf!pg!uif!Tfobuf!boe!Ipvtf!pg!Sfqsftfoubujwft-!pqfo!bmm!uif!Dfsujgjdbuft-!boe!uif!Wpuft!tibmm!uifo!cf!dpvoufe/!Uif!Qfstpo!ibwjoh!uif!hsfbuftu!Ovncfs!pg!Wpuft!tibmm!cf!uif!Qsftjefou-!jg!tvdi!Ovncfs!cf!b!Nbkpsjuz!pg!uif!xipmf!Ovncfs!pg!Fmfdupst!bqqpjoufe<!boe!jg!uifsf!cf!npsf!uibo!pof!xip!ibwf!tvdi!Nbkpsjuz-!boe!ibwf!bo!frvbm!Ovncfs!pg!Wpuft-!uifo!uif!Ipvtf!pg!Sfqsftfoubujwft!tibmm!jnnfejbufmz!divtf!cz!Cbmmpu!pof!pg!uifn!gps!Qsftjefou<!boe!jg!op!Qfstpo!ibwf!b!Nbkpsjuz-!uifo!gspn!uif!gjwf!ijhiftu!po!uif!Mjtu!uif!tbje!Ipvtf!tibmm!jo!mjlf!Nboofs!divtf!uif!Qsftjefou/!Cvu!jo!divtjoh!uif!Qsftjefou-!uif!Wpuft!tibmm!cf!ublfo!cz!Tubuft-!uif!Sfqsftfoubujpo!gspn!fbdi!Tubuf!ibwjoh!pof!Wpuf<!B!rvpsvn!gps!uijt!Qvsqptf!tibmm!dpotjtu!pg!b!Nfncfs!ps!Nfncfst!gspn!uxp!uijset!pg!uif!Tubuft-!boe!b!Nbkpsjuz!pg!bmm!uif!Tubuft!tibmm!cf!ofdfttbsz!up!b!Dipjdf/!Jo!fwfsz!Dbtf-!bgufs!uif!Dipjdf!pg!uif!Qsftjefou-!uif!Qfstpo!ibwjoh!uif!hsfbuftu!Ovncfs!pg!Wpuft!pg!uif!Fmfdupst!tibmm!cf!uif!Wjdf!Qsftjefou/!Cvu!jg!uifsf!tipvme!sfnbjo!uxp!ps!npsf!xip!ibwf!frvbm!Wpuft-!uif!Tfobuf!tibmm!divtf!gspn!uifn!cz!Cbmmpu!uif!Wjdf!Qsftjefou/\n",
      "{'a': 6, 'b': 919, 'c': 202, 'd': 322, 'e': 382, 'f': 1763, 'g': 342, 'h': 156, 'i': 692, 'j': 741, 'k': 16, 'l': 22, 'm': 507, 'n': 204, 'o': 876, 'p': 918, 'q': 175, 'r': 19, 's': 708, 't': 828, 'u': 1193, 'v': 292, 'w': 130, 'x': 112, 'y': 47, 'z': 165}\n"
     ]
    }
   ],
   "source": [
    "result= ''\n",
    "with open('test.txt','r') as f:\n",
    "    for line in f.readlines():\n",
    "        result += shift(line,1)\n",
    "print(result)\n",
    "totals = {}\n",
    "for i in range(ord('a'),ord('z')+1):\n",
    "    totals[chr(i)] = 0\n",
    "\n",
    "\n",
    "for characters in result:\n",
    "    if ord('a') <= ord(characters) <= ord('z'):\n",
    "        totals[characters] += 1\n",
    "print(totals)"
   ]
  },
  {
   "cell_type": "code",
   "execution_count": null,
   "metadata": {},
   "outputs": [],
   "source": []
  }
 ],
 "metadata": {
  "interpreter": {
   "hash": "e3691387b65ee27478ee9e39797ad3230707119714b8d3111c590d9bb0f07c0d"
  },
  "kernelspec": {
   "display_name": "Python 3.7.0 32-bit",
   "language": "python",
   "name": "python3"
  },
  "language_info": {
   "codemirror_mode": {
    "name": "ipython",
    "version": 3
   },
   "file_extension": ".py",
   "mimetype": "text/x-python",
   "name": "python",
   "nbconvert_exporter": "python",
   "pygments_lexer": "ipython3",
   "version": "3.7.0"
  },
  "orig_nbformat": 4
 },
 "nbformat": 4,
 "nbformat_minor": 2
}
