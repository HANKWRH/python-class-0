{
 "cells": [
  {
   "cell_type": "markdown",
   "source": [
    "# Homework 5\n",
    "\n",
    "This homework covers the topic of iteration. We have seen two kinds of iteration in class, the `while` loop and the `for` loop.\n",
    "Each exercise is preceded by a similar example to help you."
   ],
   "metadata": {}
  },
  {
   "cell_type": "markdown",
   "source": [
    "---\n",
    "\n",
    "## 1. `print()`'s `end` Argument\n",
    "\n",
    "The `print` function has a keyword argument `end`. Whatever value we assign to `end` will be printed after printing out the previous arguments. Below is an example.\n",
    "\n",
    "### Example: Print the Natural Numbers"
   ],
   "metadata": {}
  },
  {
   "cell_type": "code",
   "execution_count": 1,
   "source": [
    "n = 20\r\n",
    "for i in range(1, n):\r\n",
    "    print(i, end=\",\")\r\n",
    "print(n)"
   ],
   "outputs": [
    {
     "output_type": "stream",
     "name": "stdout",
     "text": [
      "1,2,3,4,5,6,7,8,9,10,11,12,13,14,15,16,17,18,19,20\n"
     ]
    }
   ],
   "metadata": {}
  },
  {
   "cell_type": "markdown",
   "source": [
    "### Exercise: Print the Odd Numbers\n",
    "Print the odd numbers from $1$ to $n$ on the same line using a for loop.\n",
    "Can you do it without any `if` statements?"
   ],
   "metadata": {}
  },
  {
   "cell_type": "code",
   "execution_count": 4,
   "source": [
    "n = 20\r\n",
    "for i in range(1, n, 2):\r\n",
    "    print(i, end=\",\")\r\n"
   ],
   "outputs": [
    {
     "output_type": "stream",
     "name": "stdout",
     "text": [
      "1,3,5,7,9,11,13,15,17,19,"
     ]
    }
   ],
   "metadata": {}
  },
  {
   "cell_type": "markdown",
   "source": [
    "---\n",
    "\n",
    "## 2. Printing Unicode Characters\n",
    "[Unicode](https://en.wikipedia.org/wiki/Unicode) includes technical symbols, punctuations, and many other characters used in writing text. In Python, to print unicode characters we can:\n",
    "\n",
    "1. convert a unicode character from [hexidecimal](https://en.wikipedia.org/wiki/Hexadecimal) to a base-10 integer with the `int(hex_code, 16)` function.\n",
    "2. then convert the integer to a character using the `chr()` function.\n",
    "\n",
    "Below, is an example.\n",
    "\n",
    "### Example: Printing Bopomofo\n",
    "In the example below `ㄅ` is represented by `\"3105\"` and `ㄬ` is represented by `\"312C\"`. Other unicode character codes can be looked up in a chart [here](https://www.unicode.org/charts/)."
   ],
   "metadata": {}
  },
  {
   "cell_type": "code",
   "execution_count": 2,
   "source": [
    "low = int(\"3105\", 16)\n",
    "high = int(\"312C\", 16)\n",
    "for i in range(low, high+1):\n",
    "    print(chr(i), end=\"\")"
   ],
   "outputs": [
    {
     "output_type": "stream",
     "name": "stdout",
     "text": [
      "ㄅㄆㄇㄈㄉㄊㄋㄌㄍㄎㄏㄐㄑㄒㄓㄔㄕㄖㄗㄘㄙㄚㄛㄜㄝㄞㄟㄠㄡㄢㄣㄤㄥㄦㄧㄨㄩㄪㄫㄬ"
     ]
    }
   ],
   "metadata": {}
  },
  {
   "cell_type": "markdown",
   "source": [
    "### Exercise: Printing Emojis\n",
    "The unicode characters for emoticons start with `1F600` and end with `1F64F`. Use a for loop to print out the all of the emoticons on a single line."
   ],
   "metadata": {}
  },
  {
   "cell_type": "code",
   "execution_count": null,
   "source": [
    "low = int(\"1F600\", 16)\n",
    "high = int(\"1F64F\", 16)\n",
    "# write your for loop here"
   ],
   "outputs": [],
   "metadata": {}
  },
  {
   "cell_type": "markdown",
   "source": [
    "---\n",
    "\n",
    "## 3. Math Quiz with `randint()`\n",
    "\n",
    "Python has a built-in package named `random` which has many functions for generating random numbers. The function `randint(a, b)` will return a random integer between `a` and `b`.\n",
    "\n",
    "### Example: Division Quiz"
   ],
   "metadata": {}
  },
  {
   "cell_type": "code",
   "execution_count": 1,
   "source": [
    "from random import randint\n",
    "while True:\n",
    "    a = randint(2, 10)\n",
    "    b = randint(2, 10)\n",
    "    product = a * b\n",
    "    answer = input(\"What is \"+str(product)+\"/\"+str(a)+\"?\")\n",
    "    if int(answer) == b:\n",
    "        print(\"very good\")\n",
    "    else:\n",
    "        print(\"sorry, wrong answer\")\n",
    "        \n",
    "    continue_response = input(\"press q to quit:\")\n",
    "    if continue_response == \"q\":\n",
    "        break"
   ],
   "outputs": [
    {
     "output_type": "stream",
     "name": "stdout",
     "text": [
      "What is 27/3? 9\n"
     ]
    },
    {
     "output_type": "stream",
     "name": "stdout",
     "text": [
      "very good\n"
     ]
    },
    {
     "output_type": "stream",
     "name": "stdout",
     "text": [
      "press q to quit: q\n"
     ]
    }
   ],
   "metadata": {}
  },
  {
   "cell_type": "markdown",
   "source": [
    "### Exersise: Multiplication Quiz\n",
    "Modify the example above to ask multiplication questions rather than division."
   ],
   "metadata": {}
  },
  {
   "cell_type": "code",
   "execution_count": null,
   "source": [],
   "outputs": [],
   "metadata": {}
  },
  {
   "cell_type": "markdown",
   "source": [
    "---\n",
    "\n",
    "## 4. Calculating the Sum of Natural Numbers\n",
    "A useful formula for the sum of natural numbers from $1$ to $n$ is:\n",
    "$$1+2+3+\\dots+n=\\frac{n(n+1)}{2}$$\n",
    "Write a loop to verify this formula.\n",
    "\n",
    "### Example: While Loop Implementation"
   ],
   "metadata": {}
  },
  {
   "cell_type": "code",
   "execution_count": 5,
   "source": [
    "i = 1\n",
    "n = 100\n",
    "sum_n = 0\n",
    "while i <= n:\n",
    "    sum_n += i\n",
    "    i += 1\n",
    "print(sum_n)\n",
    "print(sum_n == n*(n+1)/2)"
   ],
   "outputs": [
    {
     "output_type": "stream",
     "name": "stdout",
     "text": [
      "5050\n",
      "True\n"
     ]
    }
   ],
   "metadata": {}
  },
  {
   "cell_type": "markdown",
   "source": [
    "### Exercise: For Loop Implementation\n",
    "Calculate the same sum but with a for loop. Check that you get the same result. "
   ],
   "metadata": {}
  },
  {
   "cell_type": "code",
   "execution_count": null,
   "source": [],
   "outputs": [],
   "metadata": {}
  },
  {
   "cell_type": "markdown",
   "source": [
    "---\n",
    "\n",
    "## 5. Summing to $\\pi$"
   ],
   "metadata": {}
  },
  {
   "cell_type": "markdown",
   "source": [
    "### Example: The Bailey–Borwein–Plouffe Formula\n",
    "The [The Bailey–Borwein–Plouffe Formula](https://en.wikipedia.org/wiki/Bailey%E2%80%93Borwein%E2%80%93Plouffe_formula) was discovered in 1995 by Simon Plouffe. It states that \n",
    "$$\\pi = \\sum_{k=0}^{\\infty} \\left(\\frac{1}{16^k}\\left(\\frac{4}{8k+1}-\\frac{2}{8k+4}-\\frac{1}{8k+5}-\\frac{1}{8k+6}\\right)\\right)$$ \n",
    "Remarkably, this formula accurately computes the first 15 digits of pi in just 10 iterations."
   ],
   "metadata": {}
  },
  {
   "cell_type": "code",
   "execution_count": 6,
   "source": [
    "sum = 0\n",
    "for k in range(10):\n",
    "    _8k = 8*k\n",
    "    sum += (4/(_8k+1) - 2/(_8k+4) - 1/(_8k+5) - 1/(_8k+6)) / (16**k)\n",
    "print(sum)"
   ],
   "outputs": [
    {
     "output_type": "stream",
     "name": "stdout",
     "text": [
      "3.1415926535897913\n"
     ]
    }
   ],
   "metadata": {}
  },
  {
   "cell_type": "markdown",
   "source": [
    "### Exercise: The Leibniz Formula\n",
    "\n",
    "The [Leibniz formula](https://en.wikipedia.org/wiki/Leibniz_formula_for_%CF%80) was discovered by the Indian Mathematician Madhava of Sangamagrama in the 14th century. It states that:\n",
    "$$1 - \\frac{1}{3} + \\frac{1}{5} - \\frac{1}{7} + \\frac{1}{9} \\dots = \\frac{\\pi}{4}$$\n",
    "Use a for loop to calculate this sum and multiply the final sum by 4 to check how close the result is to $\\pi$."
   ],
   "metadata": {}
  },
  {
   "cell_type": "code",
   "execution_count": null,
   "source": [],
   "outputs": [],
   "metadata": {}
  }
 ],
 "metadata": {
  "kernelspec": {
   "name": "python3",
   "display_name": "Python 3.8.3 64-bit ('base': conda)"
  },
  "language_info": {
   "codemirror_mode": {
    "name": "ipython",
    "version": 3
   },
   "file_extension": ".py",
   "mimetype": "text/x-python",
   "name": "python",
   "nbconvert_exporter": "python",
   "pygments_lexer": "ipython3",
   "version": "3.8.3"
  },
  "interpreter": {
   "hash": "c4cdca8cf6037a262b76618109a328ec3d85c282afcc942ccf996e017a3001e3"
  }
 },
 "nbformat": 4,
 "nbformat_minor": 4
}